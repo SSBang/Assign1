{
 "cells": [
  {
   "cell_type": "markdown",
   "metadata": {},
   "source": [
    "# Softmax exercise\n",
    "\n",
    "*Complete and hand in this completed worksheet (including its outputs and any supporting code outside of the worksheet) with your assignment submission. For more details see the [assignments page](http://vision.stanford.edu/teaching/cs231n/assignments.html) on the course website.*\n",
    "\n",
    "This exercise is analogous to the SVM exercise. You will:\n",
    "\n",
    "- implement a fully-vectorized **loss function** for the Softmax classifier\n",
    "- implement the fully-vectorized expression for its **analytic gradient**\n",
    "- **check your implementation** with numerical gradient\n",
    "- use a validation set to **tune the learning rate and regularization** strength\n",
    "- **optimize** the loss function with **SGD**\n",
    "- **visualize** the final learned weights\n"
   ]
  },
  {
   "cell_type": "code",
   "execution_count": 1,
   "metadata": {
    "collapsed": false
   },
   "outputs": [],
   "source": [
    "import random\n",
    "import numpy as np\n",
    "from cs231n.data_utils import load_CIFAR10\n",
    "import matplotlib.pyplot as plt\n",
    "\n",
    "from __future__ import print_function\n",
    "\n",
    "%matplotlib inline\n",
    "plt.rcParams['figure.figsize'] = (10.0, 8.0) # set default size of plots\n",
    "plt.rcParams['image.interpolation'] = 'nearest'\n",
    "plt.rcParams['image.cmap'] = 'gray'\n",
    "\n",
    "# for auto-reloading extenrnal modules\n",
    "# see http://stackoverflow.com/questions/1907993/autoreload-of-modules-in-ipython\n",
    "%load_ext autoreload\n",
    "%autoreload 2"
   ]
  },
  {
   "cell_type": "code",
   "execution_count": 2,
   "metadata": {
    "collapsed": false
   },
   "outputs": [
    {
     "name": "stdout",
     "output_type": "stream",
     "text": [
      "Train data shape:  (49000, 3073)\n",
      "Train labels shape:  (49000,)\n",
      "Validation data shape:  (1000, 3073)\n",
      "Validation labels shape:  (1000,)\n",
      "Test data shape:  (1000, 3073)\n",
      "Test labels shape:  (1000,)\n",
      "dev data shape:  (500, 3073)\n",
      "dev labels shape:  (500,)\n"
     ]
    }
   ],
   "source": [
    "def get_CIFAR10_data(num_training=49000, num_validation=1000, num_test=1000, num_dev=500):\n",
    "    \"\"\"\n",
    "    Load the CIFAR-10 dataset from disk and perform preprocessing to prepare\n",
    "    it for the linear classifier. These are the same steps as we used for the\n",
    "    SVM, but condensed to a single function.  \n",
    "    \"\"\"\n",
    "    # Load the raw CIFAR-10 data\n",
    "    cifar10_dir = 'cs231n/datasets/cifar-10-batches-py'\n",
    "    X_train, y_train, X_test, y_test = load_CIFAR10(cifar10_dir)\n",
    "    \n",
    "    # subsample the data\n",
    "    mask = list(range(num_training, num_training + num_validation))\n",
    "    X_val = X_train[mask]\n",
    "    y_val = y_train[mask]\n",
    "    mask = list(range(num_training))\n",
    "    X_train = X_train[mask]\n",
    "    y_train = y_train[mask]\n",
    "    mask = list(range(num_test))\n",
    "    X_test = X_test[mask]\n",
    "    y_test = y_test[mask]\n",
    "    mask = np.random.choice(num_training, num_dev, replace=False)\n",
    "    X_dev = X_train[mask]\n",
    "    y_dev = y_train[mask]\n",
    "    \n",
    "    # Preprocessing: reshape the image data into rows\n",
    "    X_train = np.reshape(X_train, (X_train.shape[0], -1))\n",
    "    X_val = np.reshape(X_val, (X_val.shape[0], -1))\n",
    "    X_test = np.reshape(X_test, (X_test.shape[0], -1))\n",
    "    X_dev = np.reshape(X_dev, (X_dev.shape[0], -1))\n",
    "    \n",
    "    # Normalize the data: subtract the mean image\n",
    "    mean_image = np.mean(X_train, axis = 0)\n",
    "    X_train -= mean_image\n",
    "    X_val -= mean_image\n",
    "    X_test -= mean_image\n",
    "    X_dev -= mean_image\n",
    "    \n",
    "    # add bias dimension and transform into columns\n",
    "    X_train = np.hstack([X_train, np.ones((X_train.shape[0], 1))])\n",
    "    X_val = np.hstack([X_val, np.ones((X_val.shape[0], 1))])\n",
    "    X_test = np.hstack([X_test, np.ones((X_test.shape[0], 1))])\n",
    "    X_dev = np.hstack([X_dev, np.ones((X_dev.shape[0], 1))])\n",
    "    \n",
    "    return X_train, y_train, X_val, y_val, X_test, y_test, X_dev, y_dev\n",
    "\n",
    "\n",
    "# Invoke the above function to get our data.\n",
    "X_train, y_train, X_val, y_val, X_test, y_test, X_dev, y_dev = get_CIFAR10_data()\n",
    "print('Train data shape: ', X_train.shape)\n",
    "print('Train labels shape: ', y_train.shape)\n",
    "print('Validation data shape: ', X_val.shape)\n",
    "print('Validation labels shape: ', y_val.shape)\n",
    "print('Test data shape: ', X_test.shape)\n",
    "print('Test labels shape: ', y_test.shape)\n",
    "print('dev data shape: ', X_dev.shape)\n",
    "print('dev labels shape: ', y_dev.shape)"
   ]
  },
  {
   "cell_type": "markdown",
   "metadata": {},
   "source": [
    "## Softmax Classifier\n",
    "\n",
    "Your code for this section will all be written inside **cs231n/classifiers/softmax.py**. \n"
   ]
  },
  {
   "cell_type": "code",
   "execution_count": 26,
   "metadata": {
    "collapsed": false
   },
   "outputs": [
    {
     "name": "stdout",
     "output_type": "stream",
     "text": [
      "loss: 2.324004\n",
      "sanity check: 2.302585\n"
     ]
    }
   ],
   "source": [
    "# First implement the naive softmax loss function with nested loops.\n",
    "# Open the file cs231n/classifiers/softmax.py and implement the\n",
    "# softmax_loss_naive function.\n",
    "\n",
    "from cs231n.classifiers.softmax import softmax_loss_naive\n",
    "import time\n",
    "\n",
    "# Generate a random softmax weight matrix and use it to compute the loss.\n",
    "W = np.random.randn(3073, 10) * 0.0001\n",
    "loss, grad = softmax_loss_naive(W, X_dev, y_dev, 0.0)\n",
    "\n",
    "# As a rough sanity check, our loss should be something close to -log(0.1).\n",
    "print('loss: %f' % loss)\n",
    "print('sanity check: %f' % (-np.log(0.1)))"
   ]
  },
  {
   "cell_type": "markdown",
   "metadata": {},
   "source": [
    "## Inline Question 1:\n",
    "Why do we expect our loss to be close to -log(0.1)? Explain briefly.**\n",
    "\n",
    "**Your answer:** *Fill this in*\n"
   ]
  },
  {
   "cell_type": "code",
   "execution_count": 27,
   "metadata": {
    "collapsed": false
   },
   "outputs": [
    {
     "name": "stdout",
     "output_type": "stream",
     "text": [
      "numerical: 3.051726 analytic: 3.051726, relative error: 2.093852e-08\n",
      "numerical: 0.877431 analytic: 0.877431, relative error: 3.219963e-08\n",
      "numerical: 2.214516 analytic: 2.214515, relative error: 3.677909e-08\n",
      "numerical: -1.230229 analytic: -1.230229, relative error: 1.458686e-08\n",
      "numerical: -1.109690 analytic: -1.109690, relative error: 4.656267e-08\n",
      "numerical: 2.827766 analytic: 2.827766, relative error: 3.341872e-08\n",
      "numerical: -1.901584 analytic: -1.901584, relative error: 7.344943e-08\n",
      "numerical: 2.771631 analytic: 2.771631, relative error: 2.785702e-08\n",
      "numerical: -0.961256 analytic: -0.961257, relative error: 4.123175e-08\n",
      "numerical: -1.654919 analytic: -1.654919, relative error: 1.853634e-08\n",
      "numerical: -1.382953 analytic: -1.382953, relative error: 4.333954e-08\n",
      "numerical: 0.477616 analytic: 0.477616, relative error: 3.340021e-08\n",
      "numerical: -0.497216 analytic: -0.497216, relative error: 8.926618e-09\n",
      "numerical: 0.875571 analytic: 0.875571, relative error: 9.610995e-08\n",
      "numerical: 1.405971 analytic: 1.405971, relative error: 4.358284e-08\n",
      "numerical: 0.953168 analytic: 0.953168, relative error: 1.744931e-08\n",
      "numerical: 0.676639 analytic: 0.676639, relative error: 1.106033e-07\n",
      "numerical: 0.085818 analytic: 0.085818, relative error: 3.001446e-07\n",
      "numerical: 1.334673 analytic: 1.334673, relative error: 8.884511e-08\n",
      "numerical: 1.299855 analytic: 1.299855, relative error: 9.344098e-08\n"
     ]
    }
   ],
   "source": [
    "# Complete the implementation of softmax_loss_naive and implement a (naive)\n",
    "# version of the gradient that uses nested loops.\n",
    "loss, grad = softmax_loss_naive(W, X_dev, y_dev, 0.0)\n",
    "\n",
    "# As we did for the SVM, use numeric gradient checking as a debugging tool.\n",
    "# The numeric gradient should be close to the analytic gradient.\n",
    "from cs231n.gradient_check import grad_check_sparse\n",
    "f = lambda w: softmax_loss_naive(w, X_dev, y_dev, 0.0)[0]\n",
    "grad_numerical = grad_check_sparse(f, W, grad, 10)\n",
    "\n",
    "# similar to SVM case, do another gradient check with regularization\n",
    "loss, grad = softmax_loss_naive(W, X_dev, y_dev, 5e1)\n",
    "f = lambda w: softmax_loss_naive(w, X_dev, y_dev, 5e1)[0]\n",
    "grad_numerical = grad_check_sparse(f, W, grad, 10)"
   ]
  },
  {
   "cell_type": "code",
   "execution_count": 45,
   "metadata": {
    "collapsed": false
   },
   "outputs": [
    {
     "name": "stdout",
     "output_type": "stream",
     "text": [
      "naive loss: 2.324004e+00 computed in 0.123082s\n",
      "vectorized loss: 2.324004e+00 computed in 0.014010s\n",
      "Loss difference: 0.000000\n",
      "Gradient difference: 0.000000\n"
     ]
    }
   ],
   "source": [
    "# Now that we have a naive implementation of the softmax loss function and its gradient,\n",
    "# implement a vectorized version in softmax_loss_vectorized.\n",
    "# The two versions should compute the same results, but the vectorized version should be\n",
    "# much faster.\n",
    "tic = time.time()\n",
    "loss_naive, grad_naive = softmax_loss_naive(W, X_dev, y_dev, 0.000005)\n",
    "toc = time.time()\n",
    "print('naive loss: %e computed in %fs' % (loss_naive, toc - tic))\n",
    "\n",
    "from cs231n.classifiers.softmax import softmax_loss_vectorized\n",
    "tic = time.time()\n",
    "loss_vectorized, grad_vectorized = softmax_loss_vectorized(W, X_dev, y_dev, 0.000005)\n",
    "toc = time.time()\n",
    "print('vectorized loss: %e computed in %fs' % (loss_vectorized, toc - tic))\n",
    "\n",
    "# As we did for the SVM, we use the Frobenius norm to compare the two versions\n",
    "# of the gradient.\n",
    "grad_difference = np.linalg.norm(grad_naive - grad_vectorized, ord='fro')\n",
    "print('Loss difference: %f' % np.abs(loss_naive - loss_vectorized))\n",
    "print('Gradient difference: %f' % grad_difference)"
   ]
  },
  {
   "cell_type": "code",
   "execution_count": 47,
   "metadata": {
    "collapsed": false
   },
   "outputs": [
    {
     "name": "stderr",
     "output_type": "stream",
     "text": [
      "C:\\Users\\ss\\Desktop\\spring1617_assignment1\\assignment1\\cs231n\\classifiers\\softmax.py:93: RuntimeWarning: divide by zero encountered in log\n",
      "  loss = np.sum(margin)\n"
     ]
    },
    {
     "name": "stdout",
     "output_type": "stream",
     "text": [
      "lr 1.932128e-05 reg 2.379614e+03 train accuracy: 0.235551 val accuracy: 0.264000\n",
      "lr 1.932128e-05 reg 3.151641e+03 train accuracy: 0.163224 val accuracy: 0.196000\n",
      "lr 1.932128e-05 reg 4.299755e+03 train accuracy: 0.154082 val accuracy: 0.157000\n",
      "lr 1.932128e-05 reg 5.146865e+03 train accuracy: 0.181531 val accuracy: 0.185000\n",
      "lr 1.932128e-05 reg 5.162118e+03 train accuracy: 0.214061 val accuracy: 0.208000\n",
      "lr 1.932128e-05 reg 5.413029e+03 train accuracy: 0.200490 val accuracy: 0.210000\n",
      "lr 1.932128e-05 reg 6.840275e+03 train accuracy: 0.138653 val accuracy: 0.136000\n",
      "lr 1.932128e-05 reg 7.938290e+03 train accuracy: 0.162776 val accuracy: 0.169000\n",
      "lr 1.932128e-05 reg 8.180278e+03 train accuracy: 0.163449 val accuracy: 0.136000\n",
      "lr 1.932128e-05 reg 8.246017e+03 train accuracy: 0.183816 val accuracy: 0.196000\n",
      "lr 1.952502e-05 reg 2.379614e+03 train accuracy: 0.202796 val accuracy: 0.228000\n",
      "lr 1.952502e-05 reg 3.151641e+03 train accuracy: 0.174388 val accuracy: 0.155000\n",
      "lr 1.952502e-05 reg 4.299755e+03 train accuracy: 0.218224 val accuracy: 0.211000\n",
      "lr 1.952502e-05 reg 5.146865e+03 train accuracy: 0.170163 val accuracy: 0.168000\n",
      "lr 1.952502e-05 reg 5.162118e+03 train accuracy: 0.196980 val accuracy: 0.213000\n",
      "lr 1.952502e-05 reg 5.413029e+03 train accuracy: 0.167102 val accuracy: 0.183000\n",
      "lr 1.952502e-05 reg 6.840275e+03 train accuracy: 0.132980 val accuracy: 0.126000\n",
      "lr 1.952502e-05 reg 7.938290e+03 train accuracy: 0.159735 val accuracy: 0.171000\n",
      "lr 1.952502e-05 reg 8.180278e+03 train accuracy: 0.154571 val accuracy: 0.177000\n",
      "lr 1.952502e-05 reg 8.246017e+03 train accuracy: 0.177531 val accuracy: 0.175000\n",
      "lr 2.133765e-05 reg 2.379614e+03 train accuracy: 0.163837 val accuracy: 0.170000\n",
      "lr 2.133765e-05 reg 3.151641e+03 train accuracy: 0.219918 val accuracy: 0.215000\n",
      "lr 2.133765e-05 reg 4.299755e+03 train accuracy: 0.195571 val accuracy: 0.185000\n",
      "lr 2.133765e-05 reg 5.146865e+03 train accuracy: 0.192592 val accuracy: 0.191000\n",
      "lr 2.133765e-05 reg 5.162118e+03 train accuracy: 0.141939 val accuracy: 0.143000\n",
      "lr 2.133765e-05 reg 5.413029e+03 train accuracy: 0.183980 val accuracy: 0.174000\n",
      "lr 2.133765e-05 reg 6.840275e+03 train accuracy: 0.201204 val accuracy: 0.194000\n",
      "lr 2.133765e-05 reg 7.938290e+03 train accuracy: 0.130163 val accuracy: 0.124000\n",
      "lr 2.133765e-05 reg 8.180278e+03 train accuracy: 0.156490 val accuracy: 0.169000\n",
      "lr 2.133765e-05 reg 8.246017e+03 train accuracy: 0.151776 val accuracy: 0.147000\n",
      "lr 2.309957e-05 reg 2.379614e+03 train accuracy: 0.165571 val accuracy: 0.162000\n",
      "lr 2.309957e-05 reg 3.151641e+03 train accuracy: 0.188837 val accuracy: 0.208000\n",
      "lr 2.309957e-05 reg 4.299755e+03 train accuracy: 0.196939 val accuracy: 0.172000\n",
      "lr 2.309957e-05 reg 5.146865e+03 train accuracy: 0.154245 val accuracy: 0.156000\n",
      "lr 2.309957e-05 reg 5.162118e+03 train accuracy: 0.169469 val accuracy: 0.162000\n",
      "lr 2.309957e-05 reg 5.413029e+03 train accuracy: 0.166286 val accuracy: 0.157000\n",
      "lr 2.309957e-05 reg 6.840275e+03 train accuracy: 0.171388 val accuracy: 0.171000\n",
      "lr 2.309957e-05 reg 7.938290e+03 train accuracy: 0.130184 val accuracy: 0.126000\n",
      "lr 2.309957e-05 reg 8.180278e+03 train accuracy: 0.166939 val accuracy: 0.165000\n",
      "lr 2.309957e-05 reg 8.246017e+03 train accuracy: 0.121837 val accuracy: 0.121000\n",
      "lr 2.762555e-05 reg 2.379614e+03 train accuracy: 0.204735 val accuracy: 0.222000\n",
      "lr 2.762555e-05 reg 3.151641e+03 train accuracy: 0.148918 val accuracy: 0.143000\n",
      "lr 2.762555e-05 reg 4.299755e+03 train accuracy: 0.141653 val accuracy: 0.137000\n",
      "lr 2.762555e-05 reg 5.146865e+03 train accuracy: 0.163286 val accuracy: 0.157000\n",
      "lr 2.762555e-05 reg 5.162118e+03 train accuracy: 0.131918 val accuracy: 0.133000\n",
      "lr 2.762555e-05 reg 5.413029e+03 train accuracy: 0.143490 val accuracy: 0.143000\n",
      "lr 2.762555e-05 reg 6.840275e+03 train accuracy: 0.186000 val accuracy: 0.179000\n",
      "lr 2.762555e-05 reg 7.938290e+03 train accuracy: 0.146653 val accuracy: 0.142000\n",
      "lr 2.762555e-05 reg 8.180278e+03 train accuracy: 0.128204 val accuracy: 0.120000\n",
      "lr 2.762555e-05 reg 8.246017e+03 train accuracy: 0.115306 val accuracy: 0.108000\n",
      "lr 5.162506e-05 reg 2.379614e+03 train accuracy: 0.189531 val accuracy: 0.181000\n",
      "lr 5.162506e-05 reg 3.151641e+03 train accuracy: 0.157082 val accuracy: 0.153000\n",
      "lr 5.162506e-05 reg 4.299755e+03 train accuracy: 0.151204 val accuracy: 0.141000\n",
      "lr 5.162506e-05 reg 5.146865e+03 train accuracy: 0.144816 val accuracy: 0.147000\n",
      "lr 5.162506e-05 reg 5.162118e+03 train accuracy: 0.106857 val accuracy: 0.100000\n",
      "lr 5.162506e-05 reg 5.413029e+03 train accuracy: 0.131694 val accuracy: 0.134000\n",
      "lr 5.162506e-05 reg 6.840275e+03 train accuracy: 0.091082 val accuracy: 0.089000\n",
      "lr 5.162506e-05 reg 7.938290e+03 train accuracy: 0.110429 val accuracy: 0.122000\n",
      "lr 5.162506e-05 reg 8.180278e+03 train accuracy: 0.107633 val accuracy: 0.105000\n",
      "lr 5.162506e-05 reg 8.246017e+03 train accuracy: 0.078041 val accuracy: 0.067000\n",
      "lr 5.607095e-05 reg 2.379614e+03 train accuracy: 0.140531 val accuracy: 0.162000\n",
      "lr 5.607095e-05 reg 3.151641e+03 train accuracy: 0.152980 val accuracy: 0.180000\n",
      "lr 5.607095e-05 reg 4.299755e+03 train accuracy: 0.100612 val accuracy: 0.087000\n",
      "lr 5.607095e-05 reg 5.146865e+03 train accuracy: 0.086061 val accuracy: 0.084000\n",
      "lr 5.607095e-05 reg 5.162118e+03 train accuracy: 0.113061 val accuracy: 0.106000\n",
      "lr 5.607095e-05 reg 5.413029e+03 train accuracy: 0.113918 val accuracy: 0.115000\n",
      "lr 5.607095e-05 reg 6.840275e+03 train accuracy: 0.073776 val accuracy: 0.074000\n",
      "lr 5.607095e-05 reg 7.938290e+03 train accuracy: 0.077551 val accuracy: 0.077000\n",
      "lr 5.607095e-05 reg 8.180278e+03 train accuracy: 0.122918 val accuracy: 0.139000\n",
      "lr 5.607095e-05 reg 8.246017e+03 train accuracy: 0.133224 val accuracy: 0.134000\n",
      "lr 6.347637e-05 reg 2.379614e+03 train accuracy: 0.173388 val accuracy: 0.163000\n",
      "lr 6.347637e-05 reg 3.151641e+03 train accuracy: 0.143776 val accuracy: 0.143000\n",
      "lr 6.347637e-05 reg 4.299755e+03 train accuracy: 0.120837 val accuracy: 0.119000\n",
      "lr 6.347637e-05 reg 5.146865e+03 train accuracy: 0.082816 val accuracy: 0.080000\n",
      "lr 6.347637e-05 reg 5.162118e+03 train accuracy: 0.081469 val accuracy: 0.065000\n",
      "lr 6.347637e-05 reg 5.413029e+03 train accuracy: 0.117551 val accuracy: 0.120000\n",
      "lr 6.347637e-05 reg 6.840275e+03 train accuracy: 0.075469 val accuracy: 0.078000\n",
      "lr 6.347637e-05 reg 7.938290e+03 train accuracy: 0.074265 val accuracy: 0.069000\n",
      "lr 6.347637e-05 reg 8.180278e+03 train accuracy: 0.107224 val accuracy: 0.108000\n",
      "lr 6.347637e-05 reg 8.246017e+03 train accuracy: 0.078143 val accuracy: 0.104000\n",
      "lr 7.528032e-05 reg 2.379614e+03 train accuracy: 0.142939 val accuracy: 0.132000\n",
      "lr 7.528032e-05 reg 3.151641e+03 train accuracy: 0.147857 val accuracy: 0.153000\n",
      "lr 7.528032e-05 reg 4.299755e+03 train accuracy: 0.120122 val accuracy: 0.137000\n",
      "lr 7.528032e-05 reg 5.146865e+03 train accuracy: 0.133898 val accuracy: 0.113000\n",
      "lr 7.528032e-05 reg 5.162118e+03 train accuracy: 0.118980 val accuracy: 0.126000\n",
      "lr 7.528032e-05 reg 5.413029e+03 train accuracy: 0.077143 val accuracy: 0.077000\n",
      "lr 7.528032e-05 reg 6.840275e+03 train accuracy: 0.079306 val accuracy: 0.069000\n",
      "lr 7.528032e-05 reg 7.938290e+03 train accuracy: 0.073143 val accuracy: 0.066000\n",
      "lr 7.528032e-05 reg 8.180278e+03 train accuracy: 0.103531 val accuracy: 0.093000\n",
      "lr 7.528032e-05 reg 8.246017e+03 train accuracy: 0.138918 val accuracy: 0.148000\n",
      "lr 7.891104e-05 reg 2.379614e+03 train accuracy: 0.201082 val accuracy: 0.203000\n",
      "lr 7.891104e-05 reg 3.151641e+03 train accuracy: 0.105143 val accuracy: 0.101000\n",
      "lr 7.891104e-05 reg 4.299755e+03 train accuracy: 0.087224 val accuracy: 0.065000\n",
      "lr 7.891104e-05 reg 5.146865e+03 train accuracy: 0.070224 val accuracy: 0.064000\n",
      "lr 7.891104e-05 reg 5.162118e+03 train accuracy: 0.132694 val accuracy: 0.113000\n",
      "lr 7.891104e-05 reg 5.413029e+03 train accuracy: 0.108939 val accuracy: 0.108000\n",
      "lr 7.891104e-05 reg 6.840275e+03 train accuracy: 0.070245 val accuracy: 0.066000\n",
      "lr 7.891104e-05 reg 7.938290e+03 train accuracy: 0.082959 val accuracy: 0.088000\n",
      "lr 7.891104e-05 reg 8.180278e+03 train accuracy: 0.131796 val accuracy: 0.121000\n",
      "lr 7.891104e-05 reg 8.246017e+03 train accuracy: 0.132490 val accuracy: 0.136000\n",
      "best validation accuracy achieved during cross-validation: 0.264000\n"
     ]
    }
   ],
   "source": [
    "# Use the validation set to tune hyperparameters (regularization strength and\n",
    "# learning rate). You should experiment with different ranges for the learning\n",
    "# rates and regularization strengths; if you are careful you should be able to\n",
    "# get a classification accuracy of over 0.35 on the validation set.\n",
    "from cs231n.classifiers import Softmax\n",
    "results = {}\n",
    "best_val = -1\n",
    "best_softmax = None\n",
    "best_tuning = ()\n",
    "#learning_rates = [1e-7, 5e-7]\n",
    "#regularization_strengths = [2.5e4, 5e4]\n",
    "#learning_rates = [ 1e-7, 1e-6, 1e-5, 1e-4 ]\n",
    "#regularization_strengths = [1e-4, 1e-3, 1e-2, 1e-1, 1, 1e1, 1e2, 1e3, 1e4]\n",
    "learning_rates = np.random.uniform(1e-7, 1e-4, size=10)\n",
    "regularization_strengths = np.random.uniform(1e-6, 1e4, size=10)\n",
    "\n",
    "################################################################################\n",
    "# TODO:                                                                        #\n",
    "# Use the validation set to set the learning rate and regularization strength. #\n",
    "# This should be identical to the validation that you did for the SVM; save    #\n",
    "# the best trained softmax classifer in best_softmax.                          #\n",
    "################################################################################\n",
    "for i in learning_rates:\n",
    "    for j in regularization_strengths:\n",
    "        softmax = Softmax()\n",
    "        softmax.train(X_train, y_train, learning_rate=i, reg=j, num_iters=200, verbose=False)\n",
    "\n",
    "        y_train_pred = softmax.predict(X_train)\n",
    "        y_val_pred = softmax.predict(X_val)\n",
    "\n",
    "        results[(i,j)] = (np.mean(y_train == y_train_pred), np.mean(y_val == y_val_pred))\n",
    "\n",
    "        if best_val < np.mean(y_val == y_val_pred):\n",
    "            best_val = np.mean(y_val == y_val_pred)\n",
    "            best_softmax = softmax\n",
    "            best_tuning = (i, j)\n",
    "################################################################################\n",
    "#                              END OF YOUR CODE                                #\n",
    "################################################################################\n",
    "    \n",
    "# Print out results.\n",
    "for lr, reg in sorted(results):\n",
    "    train_accuracy, val_accuracy = results[(lr, reg)]\n",
    "    print('lr %e reg %e train accuracy: %f val accuracy: %f' % (\n",
    "                lr, reg, train_accuracy, val_accuracy))\n",
    "    \n",
    "print('best validation accuracy achieved during cross-validation: %f' % best_val)"
   ]
  },
  {
   "cell_type": "code",
   "execution_count": 42,
   "metadata": {
    "collapsed": false
   },
   "outputs": [
    {
     "data": {
      "text/plain": [
       "<matplotlib.text.Text at 0x17301aca208>"
      ]
     },
     "execution_count": 42,
     "metadata": {},
     "output_type": "execute_result"
    },
    {
     "data": {
      "image/png": "[encoded data removed]",
      "text/plain": [
       "<matplotlib.figure.Figure at 0x173015a5eb8>"
      ]
     },
     "metadata": {},
     "output_type": "display_data"
    }
   ],
   "source": [
    "import math\n",
    "x_scatters = [math.log10(x[0]) for x in results]\n",
    "y_scatters = [math.log10(x[1]) for x in results]\n",
    "\n",
    "colors = [results[x][1] for x in results]\n",
    "plt.subplot(2,1,1)\n",
    "plt.scatter(x_scatters,y_scatters,c = colors)\n",
    "\n",
    "plt.colorbar()\n",
    "plt.xlabel(\"learning rates\")\n",
    "plt.ylabel(\"regulazation\")\n",
    "plt.title(\"validation accuracy\")"
   ]
  },
  {
   "cell_type": "code",
   "execution_count": null,
   "metadata": {
    "collapsed": false
   },
   "outputs": [],
   "source": [
    "# evaluate on test set\n",
    "# Evaluate the best softmax on test set\n",
    "y_test_pred = best_softmax.predict(X_test)\n",
    "test_accuracy = np.mean(y_test == y_test_pred)\n",
    "print('softmax on raw pixels final test set accuracy: %f' % (test_accuracy, ))"
   ]
  },
  {
   "cell_type": "code",
   "execution_count": null,
   "metadata": {
    "collapsed": false
   },
   "outputs": [],
   "source": [
    "# Visualize the learned weights for each class\n",
    "w = best_softmax.W[:-1,:] # strip out the bias\n",
    "w = w.reshape(32, 32, 3, 10)\n",
    "\n",
    "w_min, w_max = np.min(w), np.max(w)\n",
    "\n",
    "classes = ['plane', 'car', 'bird', 'cat', 'deer', 'dog', 'frog', 'horse', 'ship', 'truck']\n",
    "for i in range(10):\n",
    "    plt.subplot(2, 5, i + 1)\n",
    "    \n",
    "    # Rescale the weights to be between 0 and 255\n",
    "    wimg = 255.0 * (w[:, :, :, i].squeeze() - w_min) / (w_max - w_min)\n",
    "    plt.imshow(wimg.astype('uint8'))\n",
    "    plt.axis('off')\n",
    "    plt.title(classes[i])"
   ]
  }
 ],
 "metadata": {
  "kernelspec": {
   "display_name": "Python 3",
   "language": "python",
   "name": "python3"
  },
  "language_info": {
   "codemirror_mode": {
    "name": "ipython",
    "version": 3
   },
   "file_extension": ".py",
   "mimetype": "text/x-python",
   "name": "python",
   "nbconvert_exporter": "python",
   "pygments_lexer": "ipython3",
   "version": "3.6.0"
  }
 },
 "nbformat": 4,
 "nbformat_minor": 0
}
